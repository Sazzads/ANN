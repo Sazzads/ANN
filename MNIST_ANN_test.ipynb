{
  "nbformat": 4,
  "nbformat_minor": 0,
  "metadata": {
    "colab": {
      "name": "MNIST_ANN_test.ipynb",
      "provenance": [],
      "authorship_tag": "ABX9TyMU5YJ6K6VFlMJ6VNwp9Xmr",
      "include_colab_link": true
    },
    "kernelspec": {
      "name": "python3",
      "display_name": "Python 3"
    },
    "language_info": {
      "name": "python"
    }
  },
  "cells": [
    {
      "cell_type": "markdown",
      "metadata": {
        "id": "view-in-github",
        "colab_type": "text"
      },
      "source": [
        "<a href=\"https://colab.research.google.com/github/Sazzads/ANN/blob/main/MNIST_ANN_test.ipynb\" target=\"_parent\"><img src=\"https://colab.research.google.com/assets/colab-badge.svg\" alt=\"Open In Colab\"/></a>"
      ]
    },
    {
      "cell_type": "code",
      "execution_count": 48,
      "metadata": {
        "id": "uqT81ioZjeP8"
      },
      "outputs": [],
      "source": [
        "#load dataset\n",
        "from keras.datasets import mnist\n",
        "(x_train,y_train),(x_test,y_test)=mnist.load_data()"
      ]
    },
    {
      "cell_type": "code",
      "source": [
        "import matplotlib.pyplot as plt\n"
      ],
      "metadata": {
        "id": "pu0RIR-WkCFO"
      },
      "execution_count": 49,
      "outputs": []
    },
    {
      "cell_type": "code",
      "source": [
        "plt.imshow(x_test[10])"
      ],
      "metadata": {
        "colab": {
          "base_uri": "https://localhost:8080/",
          "height": 283
        },
        "id": "HvsFReL8kDmd",
        "outputId": "9283e796-8295-4da8-9cf7-5cc42e82073e"
      },
      "execution_count": 50,
      "outputs": [
        {
          "output_type": "execute_result",
          "data": {
            "text/plain": [
              "<matplotlib.image.AxesImage at 0x7f5d88549c10>"
            ]
          },
          "metadata": {},
          "execution_count": 50
        },
        {
          "output_type": "display_data",
          "data": {
            "text/plain": [
              "<Figure size 432x288 with 1 Axes>"
            ],
            "image/png": "[encoded data removed]"
          },
          "metadata": {
            "needs_background": "light"
          }
        }
      ]
    },
    {
      "cell_type": "code",
      "source": [
        "from keras.models import load_model\n",
        "model=load_model(\"./model.h5\")\n",
        "\n"
      ],
      "metadata": {
        "id": "giC6Lp2bkDpL"
      },
      "execution_count": 51,
      "outputs": []
    },
    {
      "cell_type": "code",
      "source": [
        "model.summary()\n"
      ],
      "metadata": {
        "id": "5eOMH7IPmcE3",
        "colab": {
          "base_uri": "https://localhost:8080/"
        },
        "outputId": "5b13e152-a6ed-48f6-98fc-e9345152edf7"
      },
      "execution_count": 52,
      "outputs": [
        {
          "output_type": "stream",
          "name": "stdout",
          "text": [
            "Model: \"sequential\"\n",
            "_________________________________________________________________\n",
            " Layer (type)                Output Shape              Param #   \n",
            "=================================================================\n",
            " dense (Dense)               (None, 128)               100480    \n",
            "                                                                 \n",
            " dense_1 (Dense)             (None, 64)                8256      \n",
            "                                                                 \n",
            " dense_2 (Dense)             (None, 32)                2080      \n",
            "                                                                 \n",
            " dense_3 (Dense)             (None, 10)                330       \n",
            "                                                                 \n",
            "=================================================================\n",
            "Total params: 111,146\n",
            "Trainable params: 111,146\n",
            "Non-trainable params: 0\n",
            "_________________________________________________________________\n"
          ]
        }
      ]
    },
    {
      "cell_type": "code",
      "source": [
        "x_test[10].shape"
      ],
      "metadata": {
        "id": "YKWvUyI3kDry",
        "colab": {
          "base_uri": "https://localhost:8080/"
        },
        "outputId": "5a4c8730-4bbd-4590-ce48-4171ef2392c3"
      },
      "execution_count": 53,
      "outputs": [
        {
          "output_type": "execute_result",
          "data": {
            "text/plain": [
              "(28, 28)"
            ]
          },
          "metadata": {},
          "execution_count": 53
        }
      ]
    },
    {
      "cell_type": "code",
      "source": [
        "testdata=x_test[10].reshape(1,28*28)\n",
        "testdata.shape"
      ],
      "metadata": {
        "id": "KNzzsgiukDuc",
        "colab": {
          "base_uri": "https://localhost:8080/"
        },
        "outputId": "711da836-90d9-4ce0-f3f3-6b9f68993588"
      },
      "execution_count": 54,
      "outputs": [
        {
          "output_type": "execute_result",
          "data": {
            "text/plain": [
              "(1, 784)"
            ]
          },
          "metadata": {},
          "execution_count": 54
        }
      ]
    },
    {
      "cell_type": "code",
      "source": [
        "import numpy as np\n",
        "pred=model.predict(testdata)\n",
        "output=np.argmax(pred,axis=1)"
      ],
      "metadata": {
        "id": "RdcRcUIKkDxG"
      },
      "execution_count": 55,
      "outputs": []
    },
    {
      "cell_type": "code",
      "source": [
        "output"
      ],
      "metadata": {
        "id": "cQe_zNVTkDzn",
        "colab": {
          "base_uri": "https://localhost:8080/"
        },
        "outputId": "4d87978a-0437-4bc7-987f-10639cba47b7"
      },
      "execution_count": 56,
      "outputs": [
        {
          "output_type": "execute_result",
          "data": {
            "text/plain": [
              "array([0])"
            ]
          },
          "metadata": {},
          "execution_count": 56
        }
      ]
    },
    {
      "cell_type": "code",
      "source": [
        "#load image\n",
        "import cv2\n",
        "img=cv2.imread(\"/content/download.png\")\n",
        "plt.imshow(img)"
      ],
      "metadata": {
        "id": "2FR2YNvJkD2r",
        "colab": {
          "base_uri": "https://localhost:8080/",
          "height": 287
        },
        "outputId": "7d2a0102-07e9-45ac-b8d1-d624ca8a61de"
      },
      "execution_count": 58,
      "outputs": [
        {
          "output_type": "execute_result",
          "data": {
            "text/plain": [
              "<matplotlib.image.AxesImage at 0x7f5d8aca3b90>"
            ]
          },
          "metadata": {},
          "execution_count": 58
        },
        {
          "output_type": "display_data",
          "data": {
            "text/plain": [
              "<Figure size 432x288 with 1 Axes>"
            ],
            "image/png": "[encoded data removed]"
          },
          "metadata": {
            "needs_background": "light"
          }
        }
      ]
    },
    {
      "cell_type": "code",
      "source": [
        "img.shape"
      ],
      "metadata": {
        "id": "Swk3EXNckD5U",
        "colab": {
          "base_uri": "https://localhost:8080/"
        },
        "outputId": "51526efc-e867-497f-d5ff-52dbc9ed42bb"
      },
      "execution_count": 59,
      "outputs": [
        {
          "output_type": "execute_result",
          "data": {
            "text/plain": [
              "(248, 251, 3)"
            ]
          },
          "metadata": {},
          "execution_count": 59
        }
      ]
    },
    {
      "cell_type": "code",
      "source": [
        "#img preprocess\n",
        "img=cv2.resize(img,(28,28))\n",
        "img.shape"
      ],
      "metadata": {
        "id": "dBJOI6tSkD7o",
        "colab": {
          "base_uri": "https://localhost:8080/"
        },
        "outputId": "338c8353-b44d-4df9-e960-3780dd198836"
      },
      "execution_count": 61,
      "outputs": [
        {
          "output_type": "execute_result",
          "data": {
            "text/plain": [
              "(28, 28, 3)"
            ]
          },
          "metadata": {},
          "execution_count": 61
        }
      ]
    },
    {
      "cell_type": "code",
      "source": [
        "img_gray=cv2.cvtColor(img, cv2.COLOR_BGR2GRAY)\n",
        "img_gray.shape"
      ],
      "metadata": {
        "id": "mR-zcDMZkD-G",
        "colab": {
          "base_uri": "https://localhost:8080/"
        },
        "outputId": "2492e5b7-35ba-43ce-ed6e-c84db694a278"
      },
      "execution_count": 66,
      "outputs": [
        {
          "output_type": "execute_result",
          "data": {
            "text/plain": [
              "(28, 28)"
            ]
          },
          "metadata": {},
          "execution_count": 66
        }
      ]
    },
    {
      "cell_type": "code",
      "source": [
        "#flaten\n",
        "img=img_gray.reshape(1,28*28)"
      ],
      "metadata": {
        "id": "FM_zIX21kEBF"
      },
      "execution_count": 68,
      "outputs": []
    },
    {
      "cell_type": "code",
      "source": [
        "pred=model.predict(img)\n",
        "output=np.argmax(pred,axis=1)"
      ],
      "metadata": {
        "id": "9UHW_saOs0ok"
      },
      "execution_count": 71,
      "outputs": []
    },
    {
      "cell_type": "code",
      "source": [
        "output"
      ],
      "metadata": {
        "colab": {
          "base_uri": "https://localhost:8080/"
        },
        "id": "v_jGTdtys0sP",
        "outputId": "68ce157b-bab1-4edf-90f3-ce5c6a53f2d9"
      },
      "execution_count": 72,
      "outputs": [
        {
          "output_type": "execute_result",
          "data": {
            "text/plain": [
              "array([7])"
            ]
          },
          "metadata": {},
          "execution_count": 72
        }
      ]
    },
    {
      "cell_type": "code",
      "source": [
        ""
      ],
      "metadata": {
        "id": "hHE_2WWYs0vJ"
      },
      "execution_count": null,
      "outputs": []
    }
  ]
}