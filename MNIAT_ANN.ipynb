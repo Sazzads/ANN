{
  "nbformat": 4,
  "nbformat_minor": 0,
  "metadata": {
    "colab": {
      "name": "MNIAT_ANN.ipynb",
      "provenance": [],
      "authorship_tag": "ABX9TyNBoV0jobm7lzZUlNkPeCcz",
      "include_colab_link": true
    },
    "kernelspec": {
      "name": "python3",
      "display_name": "Python 3"
    },
    "language_info": {
      "name": "python"
    }
  },
  "cells": [
    {
      "cell_type": "markdown",
      "metadata": {
        "id": "view-in-github",
        "colab_type": "text"
      },
      "source": [
        "<a href=\"https://colab.research.google.com/github/Sazzads/ANN/blob/main/MNIAT_ANN.ipynb\" target=\"_parent\"><img src=\"https://colab.research.google.com/assets/colab-badge.svg\" alt=\"Open In Colab\"/></a>"
      ]
    },
    {
      "cell_type": "code",
      "execution_count": 91,
      "metadata": {
        "id": "709bFjKFeoNg"
      },
      "outputs": [],
      "source": [
        "import numpy as np\n",
        "import matplotlib.pyplot as plt\n",
        "import tensorflow as tf\n",
        "import keras\n",
        "from keras.utils import np_utils\n",
        "from keras.datasets import mnist\n",
        "from keras.models import Sequential\n",
        "from keras.layers import Dense\n"
      ]
    },
    {
      "cell_type": "markdown",
      "source": [
        "Load dataset"
      ],
      "metadata": {
        "id": "9wxyNQwdflBS"
      }
    },
    {
      "cell_type": "code",
      "source": [
        "(x_train, y_train), (x_test, y_test) = mnist.load_data()"
      ],
      "metadata": {
        "id": "vUDd7PHlfFzI"
      },
      "execution_count": 92,
      "outputs": []
    },
    {
      "cell_type": "code",
      "source": [
        "x_train.shape, x_test.shape"
      ],
      "metadata": {
        "colab": {
          "base_uri": "https://localhost:8080/"
        },
        "id": "ENbwf_rFhdEm",
        "outputId": "bbe2a5a1-0e5d-42a7-a510-8819164c5dd0"
      },
      "execution_count": 93,
      "outputs": [
        {
          "output_type": "execute_result",
          "data": {
            "text/plain": [
              "((60000, 28, 28), (10000, 28, 28))"
            ]
          },
          "metadata": {},
          "execution_count": 93
        }
      ]
    },
    {
      "cell_type": "code",
      "source": [
        "plt.imshow(x_train[0])\n",
        "print(\"Actual label: \",y_train[0])"
      ],
      "metadata": {
        "colab": {
          "base_uri": "https://localhost:8080/",
          "height": 283
        },
        "id": "-k5HaIvMhdHR",
        "outputId": "35737aa3-2b12-4436-e92f-909a6cbf63b0"
      },
      "execution_count": 94,
      "outputs": [
        {
          "output_type": "stream",
          "name": "stdout",
          "text": [
            "Actual label:  5\n"
          ]
        },
        {
          "output_type": "display_data",
          "data": {
            "text/plain": [
              "<Figure size 432x288 with 1 Axes>"
            ],
            "image/png": "[encoded data removed]"
          },
          "metadata": {
            "needs_background": "light"
          }
        }
      ]
    },
    {
      "cell_type": "code",
      "source": [
        "#prepare dataset\n",
        "x_train=x_train.reshape(60000,28*28)\n",
        "x_test=x_test.reshape(10000,28*28)"
      ],
      "metadata": {
        "id": "3pmBijvAhdKK"
      },
      "execution_count": 95,
      "outputs": []
    },
    {
      "cell_type": "code",
      "source": [
        "x_train.shape, x_test.shape"
      ],
      "metadata": {
        "colab": {
          "base_uri": "https://localhost:8080/"
        },
        "id": "kZB6eobTiTRL",
        "outputId": "75b9a327-2e78-441c-99c2-d4d28c26a2b5"
      },
      "execution_count": 96,
      "outputs": [
        {
          "output_type": "execute_result",
          "data": {
            "text/plain": [
              "((60000, 784), (10000, 784))"
            ]
          },
          "metadata": {},
          "execution_count": 96
        }
      ]
    },
    {
      "cell_type": "code",
      "source": [
        "x_train=x_train.astype('float32')\n",
        "x_test=x_test.astype('float32')\n",
        "\n",
        "x_train=x_train/255\n",
        "x_test=x_test/255\n"
      ],
      "metadata": {
        "id": "VWk_LcDTiTT4"
      },
      "execution_count": 97,
      "outputs": []
    },
    {
      "cell_type": "code",
      "source": [
        "x_train.shape, x_test.shape"
      ],
      "metadata": {
        "colab": {
          "base_uri": "https://localhost:8080/"
        },
        "id": "G2wlfk6viTWN",
        "outputId": "836073b8-69ab-47c6-8100-9d7b4d8372eb"
      },
      "execution_count": 98,
      "outputs": [
        {
          "output_type": "execute_result",
          "data": {
            "text/plain": [
              "((60000, 784), (10000, 784))"
            ]
          },
          "metadata": {},
          "execution_count": 98
        }
      ]
    },
    {
      "cell_type": "code",
      "source": [
        "y_train = keras.utils.np_utils.to_categorical(y_train,10)\n",
        "y_test = keras.utils.np_utils.to_categorical(y_test,10)"
      ],
      "metadata": {
        "id": "Dmr9cvguiTY4"
      },
      "execution_count": 99,
      "outputs": []
    },
    {
      "cell_type": "code",
      "source": [
        "#create ann\n",
        "model=Sequential()\n",
        "#input layer\n",
        "model.add(Dense(128,activation='relu',input_shape=(784, )))\n",
        "#hidden layer\n",
        "model.add(Dense(64,activation='relu'))\n",
        "model.add(Dense(32,activation='relu'))\n",
        "#output layer\n",
        "model.add(Dense(10,activation='softmax'))"
      ],
      "metadata": {
        "id": "FSJZ07D_iTbo"
      },
      "execution_count": 100,
      "outputs": []
    },
    {
      "cell_type": "code",
      "source": [
        "model.summary()"
      ],
      "metadata": {
        "colab": {
          "base_uri": "https://localhost:8080/"
        },
        "id": "aUpvMik9iTeE",
        "outputId": "12f6a138-b7de-400f-e74a-672ff600f25a"
      },
      "execution_count": 101,
      "outputs": [
        {
          "output_type": "stream",
          "name": "stdout",
          "text": [
            "Model: \"sequential_5\"\n",
            "_________________________________________________________________\n",
            " Layer (type)                Output Shape              Param #   \n",
            "=================================================================\n",
            " dense_17 (Dense)            (None, 128)               100480    \n",
            "                                                                 \n",
            " dense_18 (Dense)            (None, 64)                8256      \n",
            "                                                                 \n",
            " dense_19 (Dense)            (None, 32)                2080      \n",
            "                                                                 \n",
            " dense_20 (Dense)            (None, 10)                330       \n",
            "                                                                 \n",
            "=================================================================\n",
            "Total params: 111,146\n",
            "Trainable params: 111,146\n",
            "Non-trainable params: 0\n",
            "_________________________________________________________________\n"
          ]
        }
      ]
    },
    {
      "cell_type": "code",
      "source": [
        "adam=tf.keras.optimizers.Adam(lr=0.001)"
      ],
      "metadata": {
        "colab": {
          "base_uri": "https://localhost:8080/"
        },
        "id": "500NN-_qiTgo",
        "outputId": "ee23ea4b-f03e-43ec-da85-e6889e607fde"
      },
      "execution_count": 102,
      "outputs": [
        {
          "output_type": "stream",
          "name": "stderr",
          "text": [
            "/usr/local/lib/python3.7/dist-packages/keras/optimizer_v2/adam.py:105: UserWarning: The `lr` argument is deprecated, use `learning_rate` instead.\n",
            "  super(Adam, self).__init__(name, **kwargs)\n"
          ]
        }
      ]
    },
    {
      "cell_type": "code",
      "source": [
        "#loss\n",
        "model.compile(loss=keras.losses.categorical_crossentropy,\n",
        "              optimizer=adam,\n",
        "              metrics=['accuracy'])"
      ],
      "metadata": {
        "id": "hks1AUxQiTjP"
      },
      "execution_count": 103,
      "outputs": []
    },
    {
      "cell_type": "code",
      "source": [
        "history=model.fit(x_train,y_train,\n",
        "          batch_size=128,\n",
        "          epochs=12,\n",
        "          verbose=1,\n",
        "          validation_data=(x_test,y_test)\n",
        "    \n",
        ")"
      ],
      "metadata": {
        "colab": {
          "base_uri": "https://localhost:8080/"
        },
        "id": "YQ5rvmYhiTmc",
        "outputId": "a3eaee90-e58a-4708-f2c5-8731777fcdd5"
      },
      "execution_count": 104,
      "outputs": [
        {
          "output_type": "stream",
          "name": "stdout",
          "text": [
            "Epoch 1/12\n",
            "469/469 [==============================] - 3s 6ms/step - loss: 0.3406 - accuracy: 0.9002 - val_loss: 0.1637 - val_accuracy: 0.9501\n",
            "Epoch 2/12\n",
            "469/469 [==============================] - 2s 5ms/step - loss: 0.1347 - accuracy: 0.9595 - val_loss: 0.1098 - val_accuracy: 0.9677\n",
            "Epoch 3/12\n",
            "469/469 [==============================] - 2s 5ms/step - loss: 0.0933 - accuracy: 0.9716 - val_loss: 0.0950 - val_accuracy: 0.9721\n",
            "Epoch 4/12\n",
            "469/469 [==============================] - 2s 5ms/step - loss: 0.0712 - accuracy: 0.9785 - val_loss: 0.0849 - val_accuracy: 0.9734\n",
            "Epoch 5/12\n",
            "469/469 [==============================] - 2s 5ms/step - loss: 0.0570 - accuracy: 0.9827 - val_loss: 0.0775 - val_accuracy: 0.9756\n",
            "Epoch 6/12\n",
            "469/469 [==============================] - 2s 5ms/step - loss: 0.0452 - accuracy: 0.9859 - val_loss: 0.0814 - val_accuracy: 0.9751\n",
            "Epoch 7/12\n",
            "469/469 [==============================] - 2s 5ms/step - loss: 0.0361 - accuracy: 0.9889 - val_loss: 0.0769 - val_accuracy: 0.9780\n",
            "Epoch 8/12\n",
            "469/469 [==============================] - 3s 6ms/step - loss: 0.0293 - accuracy: 0.9908 - val_loss: 0.0806 - val_accuracy: 0.9766\n",
            "Epoch 9/12\n",
            "469/469 [==============================] - 2s 5ms/step - loss: 0.0256 - accuracy: 0.9919 - val_loss: 0.0826 - val_accuracy: 0.9780\n",
            "Epoch 10/12\n",
            "469/469 [==============================] - 2s 5ms/step - loss: 0.0208 - accuracy: 0.9935 - val_loss: 0.0849 - val_accuracy: 0.9772\n",
            "Epoch 11/12\n",
            "469/469 [==============================] - 2s 5ms/step - loss: 0.0210 - accuracy: 0.9930 - val_loss: 0.0901 - val_accuracy: 0.9783\n",
            "Epoch 12/12\n",
            "469/469 [==============================] - 2s 5ms/step - loss: 0.0159 - accuracy: 0.9948 - val_loss: 0.0886 - val_accuracy: 0.9774\n"
          ]
        }
      ]
    },
    {
      "cell_type": "code",
      "source": [
        "model.save(\"./model.h5\")"
      ],
      "metadata": {
        "id": "Sjsn7mB2_ASl"
      },
      "execution_count": 105,
      "outputs": []
    },
    {
      "cell_type": "code",
      "source": [
        "test_data=x_test[0]\n",
        "print(test_data.shape)\n",
        "test_data=test_data.reshape(1,784)\n",
        "test_data.shape"
      ],
      "metadata": {
        "colab": {
          "base_uri": "https://localhost:8080/"
        },
        "id": "U2pRiQiL_AVW",
        "outputId": "fd752a56-a533-4ba2-b9d2-f00e3b1d86fc"
      },
      "execution_count": 106,
      "outputs": [
        {
          "output_type": "stream",
          "name": "stdout",
          "text": [
            "(784,)\n"
          ]
        },
        {
          "output_type": "execute_result",
          "data": {
            "text/plain": [
              "(1, 784)"
            ]
          },
          "metadata": {},
          "execution_count": 106
        }
      ]
    },
    {
      "cell_type": "code",
      "source": [
        "pred=model.predict(test_data)"
      ],
      "metadata": {
        "id": "7JgHJWq2A0cY"
      },
      "execution_count": 107,
      "outputs": []
    },
    {
      "cell_type": "code",
      "source": [
        "pred=np.argmax(pred,axis=1)"
      ],
      "metadata": {
        "id": "6lrS-_2KA0gN"
      },
      "execution_count": 108,
      "outputs": []
    },
    {
      "cell_type": "code",
      "source": [
        "pred"
      ],
      "metadata": {
        "colab": {
          "base_uri": "https://localhost:8080/"
        },
        "id": "3SSw9t9wA0lg",
        "outputId": "f823b488-3e2f-4943-ad8c-81c584fc0ce7"
      },
      "execution_count": 109,
      "outputs": [
        {
          "output_type": "execute_result",
          "data": {
            "text/plain": [
              "array([7])"
            ]
          },
          "metadata": {},
          "execution_count": 109
        }
      ]
    },
    {
      "cell_type": "code",
      "source": [
        "y_test[0]"
      ],
      "metadata": {
        "colab": {
          "base_uri": "https://localhost:8080/"
        },
        "id": "9zNDFm5cBv61",
        "outputId": "4cd66fb2-4446-4efe-a2db-06e1138d0042"
      },
      "execution_count": 110,
      "outputs": [
        {
          "output_type": "execute_result",
          "data": {
            "text/plain": [
              "array([0., 0., 0., 0., 0., 0., 0., 1., 0., 0.], dtype=float32)"
            ]
          },
          "metadata": {},
          "execution_count": 110
        }
      ]
    },
    {
      "cell_type": "code",
      "source": [
        ""
      ],
      "metadata": {
        "id": "ItEQcf9JB4cs"
      },
      "execution_count": 110,
      "outputs": []
    },
    {
      "cell_type": "code",
      "source": [
        ""
      ],
      "metadata": {
        "id": "gwdw3AG6Bv9l"
      },
      "execution_count": 110,
      "outputs": []
    },
    {
      "cell_type": "code",
      "source": [
        ""
      ],
      "metadata": {
        "id": "tzh32Xn8BwAP"
      },
      "execution_count": 110,
      "outputs": []
    }
  ]
}